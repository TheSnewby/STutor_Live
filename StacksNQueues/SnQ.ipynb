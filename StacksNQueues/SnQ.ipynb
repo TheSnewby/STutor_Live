{
 "cells": [
  {
   "cell_type": "markdown",
   "metadata": {
    "vscode": {
     "languageId": "c"
    }
   },
   "source": [
    "# Stacks ''N Queues"
   ]
  },
  {
   "cell_type": "markdown",
   "metadata": {},
   "source": [
    "## LIFO - Last-In-First-Out\n",
    "\n",
    "![FIFO Diagram](stack.jpg \"First-In-First-Out - Stacks\")\n",
    "\n",
    "![FIFO w/Linked List](stackLL.jpg \"FIFO w/Singly Linked List\")\n",
    "\n",
    "## LIFO - First-In-First-Out\n",
    "![Queue Process](queue.jpg \"Queue Process\")"
   ]
  },
  {
   "cell_type": "markdown",
   "metadata": {},
   "source": [
    "### Historic Stack Implementation in C (linked list)"
   ]
  },
  {
   "cell_type": "code",
   "execution_count": null,
   "metadata": {},
   "outputs": [],
   "source": [
    "#include <stdlib.h>\n",
    "#include <stdio.h>\n",
    "\n",
    "typedef struct node {\n",
    "\tint val;\n",
    "\tstruct node *next;\n",
    "} node;\n",
    "\n",
    "typedef struct stack {\n",
    "\tnode *head;\n",
    "} stack;\n",
    "\n",
    "stack *createStack()\n",
    "{\n",
    "\tstack *newStack = (stack *)malloc(sizeof(stack));\n",
    "\tnewStack->head = NULL;\n",
    "\n",
    "\treturn newStack;\n",
    "}\n",
    "\n",
    "void push(stack *myStack, int val)\n",
    "{\n",
    "\tnode *newNode = (node *)malloc(sizeof(node));\n",
    "\tnewNode->val = val;\n",
    "\tnewNode->next = myStack->head;\n",
    "\tmyStack->head = newNode;\n",
    "}\n",
    "\n",
    "node *pop(stack *myStack)\n",
    "{\n",
    "\tnode *toPop;\n",
    "\n",
    "\tif (myStack->head)\n",
    "\t{\n",
    "\t\ttoPop = myStack->head;\n",
    "\t\tmyStack->head = myStack->head->next;\n",
    "\t\ttoPop->next = NULL;\n",
    "\t\treturn (toPop);\n",
    "\t}\n",
    "\treturn (NULL);\n",
    "}\n",
    "\n",
    "node *peek(stack *myStack)\n",
    "{\n",
    "\tnode *toPeek = NULL;\n",
    "\n",
    "\tif (myStack->head)\n",
    "\t\ttoPeek = myStack->head;\n",
    "\treturn (toPeek);\n",
    "}\n",
    "\n",
    "// int main (void)\n",
    "// {\n",
    "// \tint i;\n",
    "// \tstack *myStack = createStack();\n",
    "// \tnode *temp;\n",
    "\n",
    "// \tfor (i = 0; i < 5; i++)\t\t//populate stack\n",
    "// \t{\n",
    "// \t\tpush(myStack, i);\n",
    "// \t\tprintf(\"Pushing: %d\\n\", i);\n",
    "// \t\ttemp = peek(myStack);\n",
    "// \t\tprintf(\"peeking at head of myStack: %d\\n\", temp->val);\n",
    "// \t}\n",
    "// \tprintf(\"\\n\");\n",
    "// \twhile (myStack->head)\t\t// peek and pop all values from stack\n",
    "// \t{\n",
    "// \t\ttemp = peek(myStack);\n",
    "// \t\tprintf(\"peeking at head of myStack: %d\\n\", temp->val);\n",
    "// \t\ttemp = pop(myStack);\n",
    "// \t\tprintf(\"Popping: %d\\n\", temp->val);\n",
    "// \t\tfree(temp);\n",
    "// \t}\n",
    "\n",
    "// \tfree(myStack);\n",
    "// \treturn (0);\n",
    "// }\n"
   ]
  },
  {
   "cell_type": "markdown",
   "metadata": {},
   "source": [
    "### Historic Queue Implementation in C (doubly-linked list)"
   ]
  },
  {
   "cell_type": "code",
   "execution_count": null,
   "metadata": {},
   "outputs": [],
   "source": [
    "#include <stdlib.h>\n",
    "#include <stdio.h>\n",
    "\n",
    "typedef struct node {\n",
    "\tint val;\n",
    "\tstruct node *next;\n",
    "\tstruct node *prev;\n",
    "} node;\n",
    "\n",
    "typedef struct queue {\n",
    "\tnode *head;\n",
    "\tnode *tail;\n",
    "} queue;\n",
    "\n",
    "queue *createQ()\n",
    "{\n",
    "\tqueue *myQ = (queue *)malloc(sizeof(queue));\n",
    "\tmyQ->head = NULL;\n",
    "\tmyQ->tail = NULL;\n",
    "\n",
    "\treturn (myQ);\n",
    "}\n",
    "\n",
    "void enqueue(queue *myQ, int val)\t\t// add to end\n",
    "{\n",
    "\tnode *newNode = (node *)malloc(sizeof(node));\n",
    "\tnewNode->val = val;\n",
    "\tnewNode->next = NULL;\n",
    "\tnewNode->prev = myQ->tail;\n",
    "\n",
    "\tif (myQ->tail)\n",
    "\t{\n",
    "\t\tmyQ->tail->next = newNode;\n",
    "\t}\n",
    "\telse\n",
    "\t{\n",
    "\t\tmyQ->head = newNode;\n",
    "\t}\n",
    "\n",
    "\tmyQ->tail = newNode;\n",
    "}\n",
    "\n",
    "node *dequeue(queue *myQ)\t\t\t// pull from head\n",
    "{\n",
    "\tif (!myQ->head) {\n",
    "        return NULL;\n",
    "    }\n",
    "\n",
    "    node *rtn = myQ->head;\n",
    "    myQ->head = myQ->head->next;\n",
    "\n",
    "    if (myQ->head) {\n",
    "        myQ->head->prev = NULL;\n",
    "    } else {\n",
    "        myQ->tail = NULL;\n",
    "    }\n",
    "\n",
    "    rtn->next = NULL;\n",
    "    rtn->prev = NULL;\n",
    "    return rtn;\n",
    "}\n",
    "\n",
    "node *peek(queue *myQ)\n",
    "{\n",
    "\tnode *rtn = myQ->head;\n",
    "\n",
    "\treturn (rtn);\n",
    "}\n",
    "\n",
    "// int main(void)\n",
    "// {\n",
    "// \tint i;\n",
    "// \tqueue *myQ = createQ();\n",
    "// \tnode *temp;\n",
    "\n",
    "// \tfor (i = 0; i < 5; i++)\t\t//populate queue\n",
    "// \t{\n",
    "// \t\tenqueue(myQ, i);\n",
    "// \t\tprintf(\"Pushing: %d\\n\", i);\n",
    "// \t\ttemp = peek(myQ);\n",
    "// \t\tprintf(\"peeking at head of myQ: %d\\n\", temp->val);\n",
    "// \t}\n",
    "// \tprintf(\"\\n\");\n",
    "// \twhile (myQ->head)\t\t// peek and dequeue all values from stack\n",
    "// \t{\n",
    "// \t\ttemp = peek(myQ);\n",
    "// \t\tprintf(\"peeking at head of myQ: %d\\n\", temp->val);\n",
    "// \t\ttemp = dequeue(myQ);\n",
    "// \t\tprintf(\"Popping: %d\\n\", temp->val);\n",
    "// \t\tfree(temp);\n",
    "// \t}\n",
    "\n",
    "// \tfree(myQ);\n",
    "// \treturn (0);\n",
    "// }"
   ]
  },
  {
   "cell_type": "markdown",
   "metadata": {
    "vscode": {
     "languageId": "c"
    }
   },
   "source": [
    "### Stack Implementation in Python (Dynamic Array)"
   ]
  },
  {
   "cell_type": "code",
   "execution_count": null,
   "metadata": {},
   "outputs": [],
   "source": [
    "print(\"Stacks in Python mainly use Dynamic Arrays\")\n",
    "print(\"Though, a Singly Linked List can be used as well.\")\n",
    "\n",
    "stack = []\n",
    "\n",
    "for i in range(0,5):\n",
    "\tstack.append(i)\n",
    "\tprint(f\"Pushing: {i}\")\n",
    "\n",
    "print()\n",
    "\n",
    "while stack:\n",
    "\tprint(f\"Peeking at head of myStack: {stack[-1]}\")\n",
    "\tval = stack.pop()  # default value of pop() is (-1)\n",
    "\tprint(f\"Popping: {val}\")\n",
    "\n",
    "\n"
   ]
  },
  {
   "cell_type": "markdown",
   "metadata": {},
   "source": [
    "### Queue Implementation in  (Dynamic Array)"
   ]
  },
  {
   "cell_type": "code",
   "execution_count": null,
   "metadata": {},
   "outputs": [],
   "source": [
    "print(\"Queues in Python can use Dynamic Arrays\")\n",
    "\n",
    "queue = []\n",
    "\n",
    "for i in range(0,4):\n",
    "\tqueue.append(i)\n",
    "\tprint(f\"Enqueueing: {queue[i]}\")\n",
    "\n",
    "print()\n",
    "\n",
    "while (queue):\n",
    "\tprint(f\"Peeking at head of Queue: {queue[0]}\")\n",
    "\ttemp = queue.pop(0)\t\t\t# O(n)\n",
    "\tprint(f\"Dequeueing: {temp}\")"
   ]
  },
  {
   "cell_type": "markdown",
   "metadata": {},
   "source": [
    "### Dynamic Arrays\n",
    "* A(1) lookup and access unless in really large data sets\n",
    "* An auto-resizing array that doubles space when more space needed\n",
    "* Keeps track of number of elements\n",
    "* Not thread-safe\n",
    "* O(n) when popping from the head\n",
    "* Could be implemented in C, but requires manual implementation\n",
    "\n",
    "### Class Implementation of Stacks\n"
   ]
  },
  {
   "cell_type": "code",
   "execution_count": 10,
   "metadata": {},
   "outputs": [
    {
     "name": "stdout",
     "output_type": "stream",
     "text": [
      "Pushing: 0\n",
      "Pushing: 1\n",
      "Pushing: 2\n",
      "Pushing: 3\n",
      "Pushing: 4\n",
      "\n",
      "Peeking at head of myStack: 4\n",
      "Popping: 4\n",
      "Peeking at head of myStack: 3\n",
      "Popping: 3\n",
      "Peeking at head of myStack: 2\n",
      "Popping: 2\n",
      "Peeking at head of myStack: 1\n",
      "Popping: 1\n",
      "Peeking at head of myStack: 0\n",
      "Popping: 0\n"
     ]
    }
   ],
   "source": [
    "class Stack:\n",
    "    def __init__(self):\n",
    "        self.stack = []\n",
    "\n",
    "    def push(self, elem):\n",
    "        self.stack.append(elem)\n",
    "\n",
    "    def pop(self):\n",
    "        if len(self.stack) == 0:\n",
    "            return \"Stack is empty\"\n",
    "        return self.stack.pop()\n",
    "\n",
    "    def peek(self):\n",
    "        if len(self.stack) == 0:\n",
    "            return \"Stack is empty\"\n",
    "        return self.stack[-1]\n",
    "\n",
    "# Create a stack\n",
    "myStack = Stack()\n",
    "\n",
    "for i in range(0,5):\n",
    "\tmyStack.push(i)\n",
    "\tprint(f\"Pushing: {i}\")\n",
    "\n",
    "print()\n",
    "\n",
    "while len(myStack.stack) > 0:\n",
    "\tprint(f\"Peeking at head of myStack: {myStack.peek()}\")\n",
    "\tval = myStack.pop()  # default value of pop() is (-1)\n",
    "\tprint(f\"Popping: {val}\")\n"
   ]
  },
  {
   "cell_type": "markdown",
   "metadata": {},
   "source": [
    "### Class Implementation of Queues"
   ]
  },
  {
   "cell_type": "code",
   "execution_count": 1,
   "metadata": {},
   "outputs": [
    {
     "name": "stdout",
     "output_type": "stream",
     "text": [
      "Queueing: 0\n",
      "Queueing: 1\n",
      "Queueing: 2\n",
      "Queueing: 3\n",
      "Queueing: 4\n",
      "\n",
      "Peeking at head of myStack: 0\n",
      "Popping: 0\n",
      "Peeking at head of myStack: 1\n",
      "Popping: 1\n",
      "Peeking at head of myStack: 2\n",
      "Popping: 2\n",
      "Peeking at head of myStack: 3\n",
      "Popping: 3\n",
      "Peeking at head of myStack: 4\n",
      "Popping: 4\n"
     ]
    }
   ],
   "source": [
    "class Queue:\n",
    "    def __init__(self):\n",
    "        self.queue = []\n",
    "\n",
    "    def enqueue(self, elem):\n",
    "        self.queue.append(elem)\n",
    "\n",
    "    def dequeue(self):\n",
    "        if len(self.queue) == 0:\n",
    "            return \"Queue is empty\"\n",
    "        return self.queue.pop(0)\n",
    "\n",
    "    def peek(self):\n",
    "        if len(self.queue) == 0:\n",
    "            return \"Queue is empty\"\n",
    "        return self.queue[0]\n",
    "\n",
    "# Create a stack\n",
    "myQueue = Queue()\n",
    "\n",
    "for i in range(0,5):\n",
    "\tmyQueue.enqueue(i)\n",
    "\tprint(f\"Queueing: {i}\")\n",
    "\n",
    "print()\n",
    "\n",
    "while len(myQueue.queue) > 0:\n",
    "\tprint(f\"Peeking at head of myStack: {myQueue.peek()}\")\n",
    "\tval = myQueue.dequeue()  # default value of pop() is (-1)\n",
    "\tprint(f\"Popping: {val}\")"
   ]
  },
  {
   "cell_type": "markdown",
   "metadata": {},
   "source": [
    "### Classes\n",
    "* Provides more clarity of function\n",
    "* Options for increased functionality\n",
    "* Slightly lower performance due to increased overhead\n",
    "\n",
    "### Deque Implementation for Stacks"
   ]
  },
  {
   "cell_type": "code",
   "execution_count": 2,
   "metadata": {},
   "outputs": [
    {
     "name": "stdout",
     "output_type": "stream",
     "text": [
      "Pushing: 0\n",
      "Pushing: 1\n",
      "Pushing: 2\n",
      "Pushing: 3\n",
      "Pushing: 4\n",
      "\n",
      "Peeking at top of myStack: 4\n",
      "Popping: 4\n",
      "Peeking at top of myStack: 3\n",
      "Popping: 3\n",
      "Peeking at top of myStack: 2\n",
      "Popping: 2\n",
      "Peeking at top of myStack: 1\n",
      "Popping: 1\n",
      "Peeking at top of myStack: 0\n",
      "Popping: 0\n"
     ]
    }
   ],
   "source": [
    "from collections import deque\n",
    "\n",
    "stack = deque()\n",
    "\n",
    "for i in range(5):\n",
    "    stack.append(i)\n",
    "    print(f\"Pushing: {i}\")\n",
    "\n",
    "print()\n",
    "\n",
    "while stack:\n",
    "    print(f\"Peeking at top of myStack: {stack[-1]}\")\n",
    "    val = stack.pop()\n",
    "    print(f\"Popping: {val}\")"
   ]
  },
  {
   "cell_type": "markdown",
   "metadata": {},
   "source": [
    "### Deque Impelemntation for Queues"
   ]
  },
  {
   "cell_type": "code",
   "execution_count": 4,
   "metadata": {},
   "outputs": [
    {
     "name": "stdout",
     "output_type": "stream",
     "text": [
      "Enqueueing: 0\n",
      "Enqueueing: 1\n",
      "Enqueueing: 2\n",
      "Enqueueing: 3\n",
      "Enqueueing: 4\n",
      "\n",
      "Peeking at head of Queue: 0\n",
      "Dequeueing: 0\n",
      "Peeking at head of Queue: 1\n",
      "Dequeueing: 1\n",
      "Peeking at head of Queue: 2\n",
      "Dequeueing: 2\n",
      "Peeking at head of Queue: 3\n",
      "Dequeueing: 3\n",
      "Peeking at head of Queue: 4\n",
      "Dequeueing: 4\n"
     ]
    }
   ],
   "source": [
    "from collections import deque\n",
    "\n",
    "queue = deque()\n",
    "\n",
    "for i in range(5):\n",
    "    queue.append(i)\n",
    "    print(f\"Enqueueing: {i}\")\n",
    "\n",
    "print()\n",
    "\n",
    "while queue:\n",
    "    print(f\"Peeking at head of Queue: {queue[0]}\")\n",
    "    temp = queue.popleft()  # O(1) using popleft()\n",
    "    print(f\"Dequeueing: {temp}\")"
   ]
  },
  {
   "cell_type": "markdown",
   "metadata": {},
   "source": [
    "### Deque\n",
    "* Designed specifically for Stacks and Queues\n",
    "* Doubly-linked list of 64-element arrays (size dependent on system)\n",
    "* Better performance for large sets of data in Stacks\n",
    "* O(1) dequeue instead of O(n) for not having to resize"
   ]
  },
  {
   "cell_type": "markdown",
   "metadata": {},
   "source": [
    "### Media\n",
    "* du Plessis, J. (n.d.). Data Structure Stories: Stacks and Queues. Medium. Retrieved [Today's Date], from https://medium.com/@duplessisjdp96/data-structure-stories-stacks-and-queues-1826a7e92026\n",
    "\n",
    "### References\n",
    "* www.w3Schools.com\n",
    "\n",
    "### Further Reading\n",
    "* https://medium.com/@duplessisjdp96/data-structure-stories-stacks-and-queues-1826a7e92026 \n",
    "* https://www.dataquest.io/blog/python-deque-queues-stacks/#:~:text=Using%20collections.,used%20as%20queues%20and%20stacks\n"
   ]
  }
 ],
 "metadata": {
  "kernelspec": {
   "display_name": "3.12.2",
   "language": "python",
   "name": "python3"
  },
  "language_info": {
   "codemirror_mode": {
    "name": "ipython",
    "version": 3
   },
   "file_extension": ".py",
   "mimetype": "text/x-python",
   "name": "python",
   "nbconvert_exporter": "python",
   "pygments_lexer": "ipython3",
   "version": "3.12.2"
  }
 },
 "nbformat": 4,
 "nbformat_minor": 2
}
